{
 "cells": [
  {
   "attachments": {},
   "cell_type": "markdown",
   "metadata": {},
   "source": [
    "### Steps to visualising paratope predictions in PyMOL\n",
    "\n",
    "* Create new pdb files (or overwrite existing ones) where the temperature \"B\" factor is replaced by Paragraph's predictions\n",
    "* Load your new/changed pdb file into PyMOL\n",
    "* Select your chosen H and L chains e.g.\n",
    "    > sel Ab, chain H or chain L\n",
    "* Color by B-factor e.g.\n",
    "    > spectrum b, blue_white_red, selection=Ab, minimum=0, maximum=100\n",
    "* The example above will display residues with high predicted probabilities in red and those with low probabilities in blue"
   ]
  },
  {
   "cell_type": "code",
   "execution_count": 1,
   "metadata": {},
   "outputs": [],
   "source": [
    "import os\n",
    "import sys\n",
    "import glob"
   ]
  },
  {
   "cell_type": "code",
   "execution_count": 2,
   "metadata": {},
   "outputs": [],
   "source": [
    "# import Paragraph code\n",
    "\n",
    "module_path = os.path.abspath(os.path.join('../..'))\n",
    "if module_path not in sys.path:\n",
    "    sys.path.append(module_path)\n",
    "    \n",
    "src_path = os.path.join(module_path, \"Paragraph\")\n",
    "if src_path not in sys.path:\n",
    "    sys.path.append(src_path)\n",
    "\n",
    "from Paragraph.visualise import replace_B_factors_with_paratope_predictions"
   ]
  },
  {
   "cell_type": "code",
   "execution_count": 3,
   "metadata": {},
   "outputs": [],
   "source": [
    "# filepaths\n",
    "\n",
    "example_dir = os.path.abspath(\"\")\n",
    "pdb_folder_path = os.path.join(example_dir, \"pdbs\")\n",
    "predictions_csv = os.path.join(example_dir, \"example_predictions.csv\")"
   ]
  },
  {
   "cell_type": "code",
   "execution_count": 4,
   "metadata": {},
   "outputs": [
    {
     "data": {
      "text/plain": [
       "['/data/iringaakalat/chinery/Paragraph/Paragraph/example/pdbs/4edw.pdb']"
      ]
     },
     "execution_count": 4,
     "metadata": {},
     "output_type": "execute_result"
    }
   ],
   "source": [
    "# pdbs\n",
    "\n",
    "pdb_folder_path = os.path.join(example_dir, \"pdbs\")\n",
    "pdb_files = glob.glob(os.path.join(pdb_folder_path, r\"*.pdb\"))\n",
    "pdb_files"
   ]
  },
  {
   "cell_type": "code",
   "execution_count": 5,
   "metadata": {},
   "outputs": [],
   "source": [
    "# create new files\n",
    "\n",
    "for pdb_file in pdb_files:\n",
    "    replace_B_factors_with_paratope_predictions(pdb_file,\n",
    "                                                predictions_csv,\n",
    "                                                inplace=False,\n",
    "                                                new_suffix=\"_Paragraph\")"
   ]
  },
  {
   "cell_type": "code",
   "execution_count": null,
   "metadata": {},
   "outputs": [],
   "source": []
  }
 ],
 "metadata": {
  "kernelspec": {
   "display_name": "egnn_env",
   "language": "python",
   "name": "egnn_env"
  },
  "language_info": {
   "codemirror_mode": {
    "name": "ipython",
    "version": 3
   },
   "file_extension": ".py",
   "mimetype": "text/x-python",
   "name": "python",
   "nbconvert_exporter": "python",
   "pygments_lexer": "ipython3",
   "version": "3.8.11"
  },
  "orig_nbformat": 4
 },
 "nbformat": 4,
 "nbformat_minor": 2
}
